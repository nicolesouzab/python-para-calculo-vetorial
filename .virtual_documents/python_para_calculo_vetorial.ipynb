








n1 = float(input("Digite a primeira nota: "))
n2 = float(input("Digite a segunda nota: "))
n3 = float(input("Digite a terceira nota: "))

media = (n1 + n2 + n3) / 3

if media >= 7:
    situacao = "Parabéns! Voce foi aprovado."
elif media >= 5:
    situacao = "Aluno ficou de AF (Avaliação Final)."
else:
    situacao = "Voce foi reprovado."

print(f"Média do usuário: {media:.2f}")
print(f"Situação: {situacao}")





N = int(input("Digite um número natural N: "))
soma_impares = 0

for num in range(1, N + 1, 2):
    soma_impares += num

print(f"A soma de todos os números naturais ímpares de 0 a {N} é: {soma_impares}")





def eh_primo(x):
    if x < 2:
        return False  
    for i in range(2, int(x**0.5) + 1):
        if x % i == 0:
            return False  
    return True  

numero = int(input("Digite um número inteiro: "))

if eh_primo(numero):
    print(f"O número {numero} é um número primo.")
else:
    print(f"O número {numero} não é um número primo.")






import numpy as np





l = [91, 2, 3, 4, 5]
array = np.array(l)
print(array)





array = np.linspace(0, 100, 500)
print(array)





array = np.linspace(-5, 5, 200)
print(array)





x = np.linspace(-5, 5, 200)

#criando a funcao
y = x**2 - 5*x + 3

#imprimindo a funcao
print(y)





import plotly.express as px
import pandas as pd





x = np.linspace(-5, 5, 200)

# funcao
y = x**2 - 5*x + 3

# criacao do dataframe
df = pd.DataFrame({'x': x, 'y': y})

# plotando o grafico
fig = px.line(df, x='x', y='y', title= 'Gráfico de y = x² - 5x + 3')

# exibindo o grafico
fig.show()





semestres = ["2020.1", "2020.2", "2021.1", "2021.2"]
alunos_aprovados = [25, 32, 18, 36]

df = pd.DataFrame({'Semestres': semestres, 'Alunos Aprovados': alunos_aprovados})
fig = px.bar(df, x='Semestres', y='Alunos Aprovados', title='Número de Alunos Aprovados por Semestre')
fig.update_traces(marker=dict(color='purple'))

fig.show()








# definindo os parâmetros
R = 2.5 
h = 3
t = np.linspace(0, 5 * np.pi, 200)  

# funcao da helice
x = R * np.cos(t)
y = R * np.sin(t)
z = h * t

# criacao do dataframe
df = pd.DataFrame({'x': x, 'y': y, 'z': z})
# criacao do gráfico 3D
fig = px.line_3d(df, x='x', y='y', z='z', title='Hélice 3D')

# exibindo o gráfico
fig.show()








import plotly.graph_objects as go

x = np.linspace(-5, 5, 100)  
y = np.linspace(-5, 5, 100)  
X, Y = np.meshgrid(x, y)     

# funcao f(x, y) = x^2 + y^2
Z = X**2 + Y**2

# criacao do grafico da superficie
fig = go.Figure(data=[go.Surface(z=Z, x=X, y=Y)])
fig.update_layout(
    title="Superfície da Montanha: f(x, y) = x² + y²",
    scene=dict(
        xaxis_title="X",
        yaxis_title="Y",
        zaxis_title="f(x, y)"
    )
)

# exibindo o gráfico
fig.show()
